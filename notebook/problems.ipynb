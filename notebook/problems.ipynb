{
 "cells": [
  {
   "cell_type": "markdown",
   "id": "ac622319",
   "metadata": {},
   "source": [
    "# Descriptive statistics problems"
   ]
  },
  {
   "cell_type": "markdown",
   "id": "5e0ab0d5",
   "metadata": {},
   "source": [
    "### Exercise 1\n",
    "\n",
    "We will use NumPy to obtain information to describe statistically.\n",
    "\n",
    "- Generate an array of 100 elements following a normal distribution.\n",
    "- Generate an array of 100 elements following a chi-square distribution with 3 degrees of freedom.\n",
    "- Calculate the main metrics and statistical measures that best describe the two vectors."
   ]
  },
  {
   "cell_type": "code",
   "execution_count": 4,
   "id": "34720ab6",
   "metadata": {},
   "outputs": [
    {
     "name": "stdout",
     "output_type": "stream",
     "text": [
      "[ 1.30761660e+00 -9.80328904e-01  4.55089433e-02 -1.99503027e+00\n",
      " -9.37663144e-01 -2.35121178e+00 -4.58181065e-01 -2.65644969e-03\n",
      "  7.00817078e-01  1.04994708e+00  1.81265054e+00  2.09561326e+00\n",
      "  5.66929380e-01  5.87492844e-01 -6.88063714e-02 -1.81593366e-01\n",
      "  1.09695257e+00 -1.05991698e+00  1.35576988e+00  1.55085708e+00\n",
      "  8.69752909e-01 -8.83885807e-01  1.83321153e+00 -4.34409181e-01\n",
      " -9.01251531e-01  2.72195890e-02 -5.66035088e-01  1.21440951e-01\n",
      "  8.04319514e-01  6.70497544e-02 -2.20589888e-01 -9.96554709e-01\n",
      " -6.28947248e-01 -1.37251756e+00 -5.56928074e-01 -3.84005692e-01\n",
      " -4.93860853e-01 -1.67368394e+00  8.71035442e-01  1.23204537e-02\n",
      "  1.09788405e+00 -1.56819234e+00 -1.16445137e+00  6.60038962e-01\n",
      "  6.48391225e-01 -1.94264343e+00  5.05626158e-01 -1.46343559e-01\n",
      "  9.20130908e-01  3.98174177e-01 -2.58703321e-01  5.41531641e-01\n",
      " -3.36210365e-01  1.67586381e+00 -2.76481902e-01 -3.59177558e-01\n",
      " -3.16054733e-01  1.14810995e+00 -9.45886585e-01 -7.57857926e-01\n",
      " -4.68645768e-01  1.78845961e+00 -1.01346536e+00  3.90513640e-01\n",
      "  1.06804357e+00  1.59234579e+00  1.08561990e+00  1.15906514e+00\n",
      "  6.34649433e-01  4.12588676e-01  3.92463661e-03  1.94293522e+00\n",
      "  7.69465783e-01  8.00119251e-01  1.40617013e-01  5.76299927e-01\n",
      "  4.87815772e-01  7.11653083e-01  1.09034323e+00  8.20101851e-01\n",
      " -1.82853147e+00  8.97244087e-01 -7.22447915e-01 -2.36794665e+00\n",
      " -4.65030041e-01 -1.32371080e+00 -1.40538953e+00 -5.98110887e-01\n",
      " -1.93579862e+00  1.89649127e-01 -1.80316896e+00  1.45386078e+00\n",
      "  5.35036393e-05 -2.00301489e+00  7.50318905e-01  1.26272177e+00\n",
      " -2.42491919e-01 -7.38297111e-02  1.19516458e-01 -4.19490196e-01]\n",
      "[ 1.78316363  1.56856295  5.89660389  1.22618213  4.26649802  0.35338441\n",
      "  2.37395067  2.16706435  0.0200212   2.12170532  4.01093695  4.26297039\n",
      "  2.82673193  6.16579928  3.73031924  6.55998195  6.94831459  3.02971986\n",
      "  2.24738855  1.80085579  6.21886243  6.86227142  4.28868098  0.74739786\n",
      "  3.77571665  2.37626274  6.28409308  1.07699724  2.68262565  5.82153981\n",
      "  2.77648998  2.26923302  0.21321212  3.94258662  3.11120776  4.13443338\n",
      "  0.157717    0.33783021  2.54809582  3.37155323  2.25257144  1.52323647\n",
      "  3.46172813  2.1108963   1.48262438  3.231239    2.71302832  5.04991743\n",
      "  7.38199253  3.12805193  4.27816725 12.04153134  0.83135295  0.75056979\n",
      "  1.1738756   2.29920158  0.29512505  1.46189401  1.91472573  4.03556474\n",
      "  6.30284024  0.39118966  4.19631515  2.16122659  2.0685098   5.84837841\n",
      " 12.91336045  1.38835828  3.88398202  1.84837999  2.22530019  2.36498101\n",
      "  2.58718135  3.27163455  5.45237731  4.27035732  3.82802069  2.67786156\n",
      "  4.96145868  3.2364965   1.90228709  1.87214035  1.84317539  3.74867785\n",
      "  1.25906579  2.38692428  6.11400733  1.89626635  0.81738876  2.88560954\n",
      "  0.42361328  0.91446911  2.31144314  1.69726341  2.84366885  0.52520805\n",
      "  2.52408582  6.81603894  8.88780544  2.38355429]\n"
     ]
    }
   ],
   "source": [
    "# TODO\n",
    "import numpy as np\n",
    "\n",
    "distribucion_normal = np.random.normal(loc=0, scale=1, size=100)\n",
    "print(distribucion_normal)\n",
    "distribución_Chisquare = np.random.chisquare(df=3, size=100)\n",
    "print(distribución_Chisquare)\n",
    "\n",
    "normal_mean = np.mean(distribucion_normal)\n",
    "normal_std = np.std(distribucion_normal)\n",
    "normal_median = np.median(distribucion_normal)\n",
    "normal_variance = np.var(distribucion_normal)\n",
    "\n",
    "\n",
    "chi_square_mean = np.mean(distribución_Chisquare)\n",
    "chi_square_std = np.std(distribución_Chisquare)\n",
    "chi_square_median = np.median(distribución_Chisquare)\n",
    "chi_square_variance = np.var(distribución_Chisquare)"
   ]
  },
  {
   "cell_type": "markdown",
   "id": "46c70c3d",
   "metadata": {},
   "source": [
    "### Exercise 2\n",
    "\n",
    "Write a Python program to calculate the standard deviation of the following data:\n",
    "\n",
    "```py\n",
    "data = [4, 2, 5, 8, 6]\n",
    "```"
   ]
  },
  {
   "cell_type": "code",
   "execution_count": 7,
   "id": "d590308e",
   "metadata": {},
   "outputs": [
    {
     "name": "stdout",
     "output_type": "stream",
     "text": [
      "2.0\n"
     ]
    }
   ],
   "source": [
    "# TODO\n",
    "data = [4, 2, 5, 8, 6]\n",
    "standard_deviation = np.std(data)\n",
    "print(standard_deviation)"
   ]
  }
 ],
 "metadata": {
  "kernelspec": {
   "display_name": "Python 3",
   "language": "python",
   "name": "python3"
  },
  "language_info": {
   "codemirror_mode": {
    "name": "ipython",
    "version": 3
   },
   "file_extension": ".py",
   "mimetype": "text/x-python",
   "name": "python",
   "nbconvert_exporter": "python",
   "pygments_lexer": "ipython3",
   "version": "3.11.4"
  }
 },
 "nbformat": 4,
 "nbformat_minor": 5
}
